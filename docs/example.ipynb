{
    "cells": [
        {
            "cell_type": "markdown",
            "metadata": {},
            "source": [
                "# Building a Binary Search Tree with datastructpy: A Journey into Data Structures\n",
                "\n",
                "To use `datastructpy` in a project:"
            ]
        },
        {
            "cell_type": "code",
            "execution_count": null,
            "metadata": {},
            "outputs": [],
            "source": [
                "import datastructpy\n",
                "\n",
                "print(datastructpy.__version__)"
            ]
        },
        {
            "cell_type": "markdown",
            "metadata": {},
            "source": [
                "Hi! Welcome to this hands-on tutorial, where we will explore how to use the datastructpy package to build and manipulate a Binary Search Tree (BST). Whether you're preparing for doing a review for a coding interview, solving a leetcode problem, or it is your first time learning about data structures, this guide will definitely help you!"
            ]
        },
        {
            "cell_type": "markdown",
            "metadata": {},
            "source": [
                "## The Adventure Begins: Creating a Binary Search Tree"
            ]
        },
        {
            "cell_type": "markdown",
            "metadata": {},
            "source": [
                "Imagine you're going for an epic treasure hunt in a deserted island with hidden treasures and secret paths. You found this magical map that isn't a regular map, but a Binary Search Tree (BST) map! This map is going to be a powerful tool that will guide you to your treasure. Each point on the map is going to be a node that determines the path you take.\n",
                "\n",
                "In this guide, you will follow the steps of the hunt as you create, explore, and manipulate the BST to discover hidden treasures (keys). We hope that along the way, you’ll learn how a Binary Search Tree works and how to use the datastructpy package to manage your map and reach your goal."
            ]
        },
        {
            "cell_type": "markdown",
            "metadata": {},
            "source": [
                "## The First Step: Building the Treasure Map"
            ]
        },
        {
            "cell_type": "markdown",
            "metadata": {},
            "source": [
                "The first instruction on the map is to insert some random numbers, at first you don't know why but the map just asked you to insert these numbers. For example you chose these four numbers [10, 5, 15, 8]. Here we are going to use list_to_tree(). "
            ]
        },
        {
            "cell_type": "markdown",
            "metadata": {},
            "source": [
                "### Step 1: Building Your Tree"
            ]
        },
        {
            "cell_type": "markdown",
            "metadata": {},
            "source": [
                "## The Treasure Hunt: Inserting New Keys"
            ]
        },
        {
            "cell_type": "markdown",
            "metadata": {},
            "source": [
                "Apparently, there are other pirates that have the same map with you! You discovered that you can enter some random fake treasures to fool these other pirates. "
            ]
        },
        {
            "cell_type": "markdown",
            "metadata": {},
            "source": [
                "### Step 2: Inserting New Keys"
            ]
        },
        {
            "cell_type": "markdown",
            "metadata": {},
            "source": [
                "## The Search for Lost Keys: Searching in the BST"
            ]
        },
        {
            "cell_type": "markdown",
            "metadata": {},
            "source": [
                "The magical map suddenly gives you the treasure key! It is the number [] ... we wanted to check if it really contains treasure"
            ]
        },
        {
            "cell_type": "markdown",
            "metadata": {},
            "source": [
                "### Step 3: Searching for Keys"
            ]
        },
        {
            "cell_type": "markdown",
            "metadata": {},
            "source": [
                "## Overcoming Challenges: Deleting Keys from the BST"
            ]
        },
        {
            "cell_type": "markdown",
            "metadata": {},
            "source": [
                "Since you found that it is a real treasure, you want to take the treasure home with you! But there is a catch, to take the treasure, you need to delete it from the map. "
            ]
        },
        {
            "cell_type": "markdown",
            "metadata": {},
            "source": [
                "### Step 4: Deleting Keys"
            ]
        },
        {
            "cell_type": "code",
            "execution_count": null,
            "metadata": {},
            "outputs": [],
            "source": [
                "# Removing a treasure from the map\n",
                "bst.delete(5)\n",
                "\n",
                "# Check if 5 is still on the map\n",
                "print(bst.search(5) is not None)"
            ]
        },
        {
            "cell_type": "markdown",
            "metadata": {},
            "source": [
                "## The Final Structure: The Completed Tree"
            ]
        },
        {
            "cell_type": "markdown",
            "metadata": {},
            "source": [
                "After a long journey, ofcourse you want to look back at the treasure hunt journey!\n",
                "\n",
                "By now, your tree has undergone a series of transformations, and you can see how each operation (insert, search, delete) has shaped its structure. Here’s the final state of the tree:"
            ]
        },
        {
            "cell_type": "code",
            "execution_count": null,
            "metadata": {},
            "outputs": [],
            "source": [
                "# Final tree structure\n",
                "print(\"Final Tree Structure:\")\n",
                "print(bst.root.key)             # Output: 15 (new root)\n",
                "print(bst.root.left.key)        # Output: 8 (left child of 15)\n",
                "print(bst.root.right.left.key)  # Output: 12 (left child of 15)"
            ]
        },
        {
            "cell_type": "markdown",
            "metadata": {},
            "source": [
                "Your tree is now a balanced BST, with 15 as the root, 8 as the left child, and 12 as the left child of 15. It’s an efficient structure, allowing for fast insertion, search, and deletion operations."
            ]
        },
        {
            "cell_type": "markdown",
            "metadata": {},
            "source": [
                "## Conclusion"
            ]
        },
        {
            "cell_type": "markdown",
            "metadata": {},
            "source": [
                "Congratulations! You've just navigated the journey of creating, inserting, searching, and deleting nodes in a Binary Search Tree using the datastructpy package. With each step, you've gained a deeper understanding of how BSTs work and how to manipulate them programmatically.\n",
                "\n",
                "The datastructpy package is an excellent tool for mastering data structures like BSTs. It provides clear, easy-to-understand implementations and is a perfect fit for learning, technical interviews, and educational projects. If you're looking for more customization, exploration, or efficiency in your tree-based adventures, datastructpy has everything you need.\n",
                "\n",
                "Happy coding, and may your data structures always be balanced!"
            ]
        }
    ],
    "metadata": {
        "kernelspec": {
            "display_name": "Python 3",
            "language": "python",
            "name": "python3"
        },
        "language_info": {
            "codemirror_mode": {
                "name": "ipython",
                "version": 3
            },
            "file_extension": ".py",
            "mimetype": "text/x-python",
            "name": "python",
            "nbconvert_exporter": "python",
            "pygments_lexer": "ipython3",
            "version": "3.8.5"
        }
    },
    "nbformat": 4,
    "nbformat_minor": 4
}
