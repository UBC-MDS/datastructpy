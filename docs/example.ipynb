{
 "cells": [
  {
   "cell_type": "markdown",
   "metadata": {},
   "source": [
    "# Building a Binary Search Tree with datastructpy: A Journey into Data Structures\n",
    "\n",
    "To use `datastructpy` in a project:"
   ]
  },
  {
   "cell_type": "code",
   "execution_count": 1,
   "metadata": {},
   "outputs": [
    {
     "name": "stdout",
     "output_type": "stream",
     "text": [
      "0.1.0\n"
     ]
    }
   ],
   "source": [
    "import datastructpy\n",
    "from datastructpy.non_linear.trees.binary_search_tree import BinarySearchTree\n",
    "print(datastructpy.__version__)"
   ]
  },
  {
   "cell_type": "markdown",
   "metadata": {},
   "source": [
    "Hi! \n",
    "Welcome to this hands-on tutorial, where we will explore how to use the datastructpy package to build and manipulate a Binary Search Tree (BST). Whether you're preparing for doing a review for a coding interview, solving a leetcode problem, or it is your first time learning about data structures, this guide will definitely help you!"
   ]
  },
  {
   "cell_type": "markdown",
   "metadata": {},
   "source": [
    "## The Adventure Begins: Creating a Binary Search Tree"
   ]
  },
  {
   "cell_type": "markdown",
   "metadata": {},
   "source": [
    "![BST Map](../images/BST_map.jpg)"
   ]
  },
  {
   "cell_type": "markdown",
   "metadata": {},
   "source": [
    "Imagine you're going for an epic treasure hunt in a deserted island with hidden treasures and secret paths. You found this magical map that isn't a regular map, but a Binary Search Tree (BST) map! This map is going to be a powerful tool that will guide you to your treasure. Each point on the map is going to be a node that determines the path you take."
   ]
  },
  {
   "cell_type": "markdown",
   "metadata": {},
   "source": [
    "In this guide, you will follow the steps of the hunt as you create, explore, and manipulate the BST to discover hidden treasures (keys). We hope that along the way, you’ll learn how a Binary Search Tree works and how to use the datastructpy package to manage your map and reach your goal."
   ]
  },
  {
   "cell_type": "markdown",
   "metadata": {},
   "source": [
    "## Building the Treasure Map (Building Your Tree)"
   ]
  },
  {
   "cell_type": "markdown",
   "metadata": {},
   "source": [
    "The first instruction on the map is to insert some random numbers, at first, you don't know why but the map just asks you to insert these numbers. \n",
    "To start our journey, we'll create our first BST from a list of numbers. You can use the `list_to_tree()` function to convert a list into a Binary Search Tree:"
   ]
  },
  {
   "cell_type": "code",
   "execution_count": 3,
   "metadata": {},
   "outputs": [
    {
     "name": "stdout",
     "output_type": "stream",
     "text": [
      "Tree Structure After Creation:\n",
      "10\n",
      "5\n",
      "15\n",
      "8\n"
     ]
    }
   ],
   "source": [
    "# List of random treasures (numbers)\n",
    "treasures = [10, 5, 15, 8]\n",
    "\n",
    "# Create a Binary Search Tree from the list\n",
    "bst = BinarySearchTree.list_to_tree(treasures)\n",
    "\n",
    "# Check the structure of the tree\n",
    "print(\"Tree Structure After Creation:\")\n",
    "print(bst.root.key)             # Output: 10\n",
    "print(bst.root.left.key)        # Output: 5\n",
    "print(bst.root.right.key)       # Output: 15\n",
    "print(bst.root.left.right.key)  # Output: 8\n"
   ]
  },
  {
   "cell_type": "markdown",
   "metadata": {},
   "source": [
    "## The Treasure Hunt: Inserting New Keys"
   ]
  },
  {
   "cell_type": "markdown",
   "metadata": {},
   "source": [
    "Apparently, there are other pirates that have the same map with you! You discovered that you can enter some random fake treasures to fool these other pirates. "
   ]
  },
  {
   "cell_type": "code",
   "execution_count": 4,
   "metadata": {},
   "outputs": [
    {
     "name": "stdout",
     "output_type": "stream",
     "text": [
      "2 has been added to the map!\n"
     ]
    }
   ],
   "source": [
    "# Insert a random fake treasure 2 to fool other pirates\n",
    "bst.insert(2)\n",
    "\n",
    "# Check if the fake treasure is added to the map\n",
    "if bst.search(2):\n",
    "    print(\"2 has been added to the map!\")\n",
    "else:\n",
    "    print(\"2 was not added to the map.\")"
   ]
  },
  {
   "cell_type": "markdown",
   "metadata": {},
   "source": [
    "## The Search for Lost Keys: Searching in the BST"
   ]
  },
  {
   "cell_type": "markdown",
   "metadata": {},
   "source": [
    "The magical map suddenly gives you the treasure key! It is the number **12** ... but is it really a hidden treasure, or just a decoy left behind by other pirates? To find out, we need to search for this key in our Binary Search Tree.\n",
    "\n",
    "\n",
    "Let's use the **search** method to locate this key in our BST."
   ]
  },
  {
   "cell_type": "code",
   "execution_count": 5,
   "metadata": {},
   "outputs": [
    {
     "name": "stdout",
     "output_type": "stream",
     "text": [
      "The key was not found... Perhaps it was a decoy? 🤔\n"
     ]
    }
   ],
   "source": [
    "# Searching for the lost treasure key (12)\n",
    "search_result = bst.search(12)\n",
    "\n",
    "# Check if the key is found\n",
    "if search_result:\n",
    "    print(f\"The treasure key {search_result.key} was found in the BST! 🏴‍☠️\")\n",
    "else:\n",
    "    print(\"The key was not found... Perhaps it was a decoy? 🤔\")"
   ]
  },
  {
   "cell_type": "markdown",
   "metadata": {},
   "source": [
    "## Overcoming Challenges: Deleting Keys from the BST"
   ]
  },
  {
   "cell_type": "markdown",
   "metadata": {},
   "source": [
    "Since you found that it is a real treasure, you want to take the treasure home with you! But there is a catch, to take the treasure, you need to delete it from the map. "
   ]
  },
  {
   "cell_type": "markdown",
   "metadata": {},
   "source": [
    "### Step 4: Deleting Keys"
   ]
  },
  {
   "cell_type": "code",
   "execution_count": 6,
   "metadata": {},
   "outputs": [
    {
     "name": "stdout",
     "output_type": "stream",
     "text": [
      "False\n"
     ]
    }
   ],
   "source": [
    "# Removing a treasure from the map\n",
    "bst.delete(5)\n",
    "\n",
    "# Check if 5 is still on the map\n",
    "print(bst.search(5) is not None)"
   ]
  },
  {
   "cell_type": "markdown",
   "metadata": {},
   "source": [
    "The treasure number 5 is gone now!"
   ]
  },
  {
   "cell_type": "markdown",
   "metadata": {},
   "source": [
    "## The Final Structure: The Completed Tree"
   ]
  },
  {
   "cell_type": "markdown",
   "metadata": {},
   "source": [
    "After a long journey, ofcourse you want to look back at the treasure hunt journey!\n",
    "\n",
    "By now, your tree has undergone a series of transformations, and you can see how each operation (insert, search, delete) has shaped its structure. Here’s the final state of the tree:"
   ]
  },
  {
   "cell_type": "code",
   "execution_count": 9,
   "metadata": {},
   "outputs": [
    {
     "name": "stdout",
     "output_type": "stream",
     "text": [
      "Final Tree Structure:\n",
      "10\n",
      "8\n"
     ]
    }
   ],
   "source": [
    "# Final structure of the tree\n",
    "print(\"Final Tree Structure:\")\n",
    "print(bst.root.key)             # Output: 15\n",
    "print(bst.root.left.key)        # Output: 8\n"
   ]
  },
  {
   "cell_type": "markdown",
   "metadata": {},
   "source": [
    "Your tree is now a balanced BST, with 15 as the root, 8 as the left child, and 12 as the left child of 15. It’s an efficient structure, allowing for fast insertion, search, and deletion operations."
   ]
  },
  {
   "cell_type": "markdown",
   "metadata": {},
   "source": [
    "## Conclusion"
   ]
  },
  {
   "cell_type": "markdown",
   "metadata": {},
   "source": [
    "Congratulations! You've just navigated the journey of creating, inserting, searching, and deleting nodes in a Binary Search Tree using the datastructpy package. With each step, you've gained a deeper understanding of how BSTs work and how to manipulate them programmatically.\n",
    "\n",
    "The datastructpy package is an excellent tool for mastering data structures like BSTs. It provides clear, easy-to-understand implementations and is a perfect fit for learning, technical interviews, and educational projects. If you're looking for more customization, exploration, or efficiency in your tree-based adventures, datastructpy has everything you need.\n",
    "\n",
    "Happy coding, and may your data structures always be balanced!"
   ]
  }
 ],
 "metadata": {
  "kernelspec": {
   "display_name": "Python 3 (ipykernel)",
   "language": "python",
   "name": "python3"
  },
  "language_info": {
   "codemirror_mode": {
    "name": "ipython",
    "version": 3
   },
   "file_extension": ".py",
   "mimetype": "text/x-python",
   "name": "python",
   "nbconvert_exporter": "python",
   "pygments_lexer": "ipython3",
   "version": "3.12.8"
  }
 },
 "nbformat": 4,
 "nbformat_minor": 4
}
